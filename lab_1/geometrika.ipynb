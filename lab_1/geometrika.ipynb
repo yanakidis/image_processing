{
 "cells": [
  {
   "cell_type": "markdown",
   "metadata": {
    "id": "8TNgR_7GG4f6"
   },
   "source": [
    "## Необходимые библиотеки"
   ]
  },
  {
   "cell_type": "code",
   "execution_count": 1,
   "metadata": {
    "id": "DdF5K20qFKhW"
   },
   "outputs": [],
   "source": [
    "%config InlineBackend.figure_format = 'svg' \n",
    "%matplotlib inline \n",
    "import numpy as np\n",
    "import matplotlib.pyplot as plt\n",
    "import cv2 as cv\n",
    "from skimage.feature import canny\n",
    "from skimage.measure import label, find_contours, regionprops\n",
    "from skimage.morphology import disk\n",
    "from skimage.morphology import binary_erosion as erosion\n",
    "from skimage.morphology import binary_closing as closing\n",
    "from skimage.morphology import binary_dilation as dilation\n",
    "from scipy.ndimage import binary_fill_holes as fill_holes\n",
    "import glob"
   ]
  },
  {
   "cell_type": "markdown",
   "metadata": {
    "id": "5XGPMgqJHFqx"
   },
   "source": [
    "## Вспомогательные функции, структуры и операции:"
   ]
  },
  {
   "cell_type": "code",
   "execution_count": 27,
   "metadata": {
    "id": "BLFZk5YqEBuy"
   },
   "outputs": [],
   "source": [
    "pictures = [] # список из изображений\n",
    "for file in glob.glob(\"./Samples/*.jpg\"):\n",
    "    pictures.append(str(file))"
   ]
  },
  {
   "cell_type": "code",
   "execution_count": 7,
   "metadata": {
    "id": "Vfz4jwEghloO"
   },
   "outputs": [],
   "source": [
    "class Object:\n",
    "    \"\"\"\n",
    "    Структура, отвечающая за отдельно взятую фигуру на изображении\n",
    "    \"\"\"\n",
    "    def __init__(self, figure_matrix, centre):\n",
    "        self.approx = []\n",
    "        self.amount_vertexes = 0\n",
    "        self.figure_matrix = figure_matrix\n",
    "        self.centre = (round(centre[0]), round(centre[1]))\n",
    "        self.smoothness = False\n",
    "        self.convex = False\n",
    "\n",
    "    def set_approx(self, approx):\n",
    "        self.approx = np.squeeze(approx, axis=1)\n",
    "        self.amount_vertexes = approx.shape[0]\n",
    "\n",
    "    def set_smoothness(self):\n",
    "        self.smoothness = True\n",
    "\n",
    "    def del_smoothness(self):\n",
    "        self.smoothness = False\n",
    "\n",
    "    def set_convex(self):\n",
    "        self.convex = True\n",
    "\n",
    "    def get_convex(self):\n",
    "        \"\"\"\n",
    "        Получить значение выпуклости фигуры (True/False)\n",
    "        \"\"\"\n",
    "        return self.convex \n",
    "\n",
    "    def get_smoothness(self):\n",
    "        \"\"\"\n",
    "        Получить значение гладкости фигуры (True/False)\n",
    "        \"\"\"\n",
    "        return self.smoothness\n",
    "\n",
    "    def get_centre(self):\n",
    "        \"\"\"\n",
    "        Получить координаты центра\n",
    "        \"\"\"\n",
    "        return self.centre\n",
    "\n",
    "    def get_figure_matrix(self):\n",
    "        \"\"\"\n",
    "        Получить маску фигуры\n",
    "        \"\"\"\n",
    "        return self.figure_matrix\n",
    "\n",
    "    def get_approx(self):\n",
    "        \"\"\"\n",
    "        Получить точки приближения\n",
    "        \"\"\"\n",
    "        return self.approx\n",
    "\n",
    "    def get_amount_vertexes(self):\n",
    "        \"\"\"\n",
    "        Получить количество вершин\n",
    "        \"\"\"\n",
    "        return self.amount_vertexes"
   ]
  },
  {
   "cell_type": "code",
   "execution_count": 8,
   "metadata": {
    "id": "gBINbyNQhodF"
   },
   "outputs": [],
   "source": [
    "class Image:\n",
    "    \"\"\"\n",
    "    Структура, отвечающая за все фигуры в одном изображении\n",
    "    \"\"\"\n",
    "    def __init__(self, objects):\n",
    "        self.objects = objects\n",
    "        self.amount = len(objects)\n",
    "\n",
    "    def get_objects(self):\n",
    "        \"\"\"\n",
    "        Возвращает все фигуры класса Object из изображения\n",
    "        \"\"\"\n",
    "        return self.objects\n",
    "\n",
    "    def get_amount(self):\n",
    "        \"\"\"\n",
    "        Возвращает количество фигур на изображении\n",
    "        \"\"\"\n",
    "        return self.amount"
   ]
  },
  {
   "cell_type": "code",
   "execution_count": 9,
   "metadata": {
    "id": "R5no3nqKH3SN"
   },
   "outputs": [],
   "source": [
    "def color_change(image, mode):\n",
    "    \"\"\"\n",
    "    Функция для смены цветов изображения\n",
    "    \"\"\"\n",
    "    if mode == 'grey':\n",
    "        new_img = cv.cvtColor(image, cv.COLOR_BGR2GRAY)\n",
    "    elif mode == 'rgb':\n",
    "        new_img = cv.cvtColor(image, cv.COLOR_BGR2RGB)\n",
    "    elif mode == 'hsv':\n",
    "        new_img = cv.cvtColor(image, cv.COLOR_BGR2HSV)\n",
    "    else:\n",
    "        raise Exception(f'No such mode = {mode}')\n",
    "    return new_img"
   ]
  },
  {
   "cell_type": "code",
   "execution_count": 10,
   "metadata": {
    "id": "uvRQ6n3mOnef"
   },
   "outputs": [],
   "source": [
    "def find_the_cards(image):\n",
    "    \"\"\"\n",
    "    Функция для нахождения карт на изображении\n",
    "    \"\"\"\n",
    "    img = color_change(image, 'grey')\n",
    "    cards = canny(img, sigma=1)  \n",
    "    cards = dilation(cards, disk(1))\n",
    "    cards = closing(cards, disk(5))\n",
    "    cards = fill_holes(cards, disk(1)) \n",
    "    cards = erosion(cards, disk(5))\n",
    "    return cards"
   ]
  },
  {
   "cell_type": "code",
   "execution_count": 11,
   "metadata": {
    "id": "AmAPkKsgSjA4"
   },
   "outputs": [],
   "source": [
    "def put_mask(image, mask):\n",
    "    \"\"\"\n",
    "    Функция для накладывания маски на изображение\n",
    "    \"\"\"\n",
    "    if len(image.shape) == 2: # если изображение одноканальное\n",
    "        image[mask == False] = 0\n",
    "    elif len(image.shape) == 3: # трехканальное\n",
    "        image[mask == False,:] = 0\n",
    "    else:\n",
    "        raise Exception('Incorrect image')\n",
    "    return image"
   ]
  },
  {
   "cell_type": "code",
   "execution_count": 12,
   "metadata": {
    "id": "VhAjmtq5hz8U"
   },
   "outputs": [],
   "source": [
    "def angle_between(vec1, vec2):\n",
    "    \"\"\" \n",
    "    Угол между двумя векторами (в градусах)\n",
    "    \"\"\"\n",
    "    vec1_unit = vec1 / np.linalg.norm(vec1)\n",
    "    vec2_unit = vec2 / np.linalg.norm(vec2)\n",
    "    return np.arccos(np.clip(np.dot(vec1_unit, vec2_unit), -1, 1)) * 57.29"
   ]
  },
  {
   "cell_type": "markdown",
   "metadata": {
    "id": "ko2dPo5DLZxU"
   },
   "source": [
    "## Вывод картинок"
   ]
  },
  {
   "cell_type": "code",
   "execution_count": 34,
   "metadata": {
    "colab": {
     "base_uri": "https://localhost:8080/",
     "height": 1000
    },
    "id": "LErnqcVZLIz0",
    "outputId": "2e293676-6bf1-4ed8-8983-bd22f4a03485",
    "scrolled": true
   },
   "outputs": [],
   "source": [
    "for picture in pictures:\n",
    "    img = cv.imread(picture)\n",
    "    img = color_change(img, mode='rgb')\n",
    "    plt.figure(figsize=(12, 12))\n",
    "    plt.title(picture[10:], fontsize=12)\n",
    "    plt.axis(\"off\") \n",
    "    plt.imshow(img)"
   ]
  },
  {
   "cell_type": "markdown",
   "metadata": {
    "id": "bIYOQ4WQMGzb"
   },
   "source": [
    "## Обработка"
   ]
  },
  {
   "cell_type": "markdown",
   "metadata": {
    "id": "swvdj7If6f0O"
   },
   "source": [
    "1 этап обработки - на изображениях оставляем только непосредственно фигурки"
   ]
  },
  {
   "cell_type": "code",
   "execution_count": 29,
   "metadata": {
    "id": "vHxv4Rdna-YA"
   },
   "outputs": [],
   "source": [
    "min = np.array([90, 1, 0])\n",
    "max = np.array([120, 255, 255])\n",
    "edited_images = []\n",
    "clear_images = []"
   ]
  },
  {
   "cell_type": "code",
   "execution_count": 30,
   "metadata": {
    "id": "kHCxRLQYMIuL"
   },
   "outputs": [],
   "source": [
    "for image in pictures:\n",
    "    img = cv.imread(image)\n",
    "    img_grey = color_change(img, mode='grey')  \n",
    "    edited_image = canny(img_grey, sigma = 0.6)\n",
    "    img_hsv = color_change(img, mode='hsv')  \n",
    "    img_filtered = cv.inRange(img_hsv, lowerb=min, upperb=max)\n",
    "    edited_image = put_mask(edited_image, img_filtered) #убираем лишние части в картах\n",
    "    mask = find_the_cards(img)\n",
    "    edited_image = put_mask(edited_image, mask) #убираем границы карт\n",
    "    edited_image = dilation(edited_image, disk(1))\n",
    "    edited_image = fill_holes(edited_image, disk(1))\n",
    "    edited_image = erosion(edited_image, disk(2))\n",
    "    edited_images.append(edited_image)\n",
    "\n",
    "for img in edited_images:\n",
    "    num = 1\n",
    "    objects = []\n",
    "    # перенумеруем все связные компоненты в изображении\n",
    "    labeled_img = label(img) \n",
    "    # проходимся по всем связным компонентам\n",
    "    for component in regionprops(labeled_img): \n",
    "    # убеждаемся в том, что это не шум\n",
    "        if component.area > 900: \n",
    "            # (labeled_img == num) - оставляем в матрице только те пиксели, которые соответствуют фигуре (то есть делаем маску)\n",
    "            new_object = Object(figure_matrix=(labeled_img == num), centre=component.centroid)\n",
    "            objects.append(new_object)\n",
    "        num += 1\n",
    "    clear_images.append(Image(objects))"
   ]
  },
  {
   "cell_type": "markdown",
   "metadata": {
    "id": "JOfKX_El-xyN"
   },
   "source": [
    "2 этап обработки - пытаемся приблизить фигуры многоугольниками, параллельно определяя гладкость, выпуклость и количество вершин"
   ]
  },
  {
   "cell_type": "code",
   "execution_count": 31,
   "metadata": {
    "id": "DdBl8D8pkX4X"
   },
   "outputs": [],
   "source": [
    "for clear_image in clear_images:\n",
    "    for figure in clear_image.get_objects():\n",
    "        flag = True\n",
    "        contours, _ = cv.findContours(figure.get_figure_matrix().astype(np.uint8), cv.RETR_EXTERNAL, cv.CHAIN_APPROX_SIMPLE)\n",
    "        cnt = contours[0]\n",
    "        # определим гладкость\n",
    "        eps = 0.01 * cv.arcLength(cnt, True) \n",
    "        approx = cv.approxPolyDP(cnt, eps, True) # приближаем нашу фигуру\n",
    "        figure.set_approx(approx)\n",
    "        vertexes = figure.get_approx() # получаем уже обработанные вершины\n",
    "        # определим выпуклость\n",
    "        if cv.isContourConvex(vertexes):\n",
    "            figure.set_convex()\n",
    "        # продолжим определять гладкость\n",
    "        min = 360\n",
    "        for i in range(1, len(vertexes)-1):\n",
    "            vec1 = vertexes[i-1] - vertexes[i]\n",
    "            vec2 = vertexes[i+1] - vertexes[i]\n",
    "            angle = angle_between(vec1, vec2)\n",
    "            if angle < min:\n",
    "                min = angle\n",
    "                if not(figure.get_amount_vertexes() >= 10 and min > 98):\n",
    "                    flag = False\n",
    "                    break\n",
    "    \n",
    "        vec1 = vertexes[-1] - vertexes[0]\n",
    "        vec2 = vertexes[1] - vertexes[0]\n",
    "        angle = angle_between(vec1, vec2)\n",
    "        if angle < min:\n",
    "            min = angle\n",
    "            if not(figure.get_amount_vertexes() >= 10 and min > 98):\n",
    "                flag = False\n",
    "\n",
    "        vec1 = vertexes[-2] - vertexes[-1]\n",
    "        vec2 = vertexes[0] - vertexes[-1]\n",
    "        angle = angle_between(vec1, vec2)\n",
    "        if angle < min:\n",
    "            min = angle\n",
    "            if not(figure.get_amount_vertexes() >= 10 and min > 98):\n",
    "                flag = False\n",
    "\n",
    "        if flag:\n",
    "            figure.set_smoothness()\n",
    "        else:\n",
    "            figure.del_smoothness()\n",
    "\n",
    "        # определим количество вершин\n",
    "        eps_new = eps*2\n",
    "        approx_new = cv.approxPolyDP(cnt, eps_new, True) \n",
    "        figure.set_approx(approx_new) "
   ]
  },
  {
   "cell_type": "markdown",
   "metadata": {
    "id": "Cjp0UF3VDY1X"
   },
   "source": [
    "## Результат"
   ]
  },
  {
   "cell_type": "code",
   "execution_count": 33,
   "metadata": {
    "colab": {
     "base_uri": "https://localhost:8080/",
     "height": 1000
    },
    "id": "vqr1vvFDrKl0",
    "outputId": "83fc27bf-107a-4296-8b19-aa85e3a32eea"
   },
   "outputs": [],
   "source": [
    "for clear_image, image in zip(clear_images, pictures):\n",
    "    plt.figure(figsize=(12, 12))\n",
    "    plt.axis(\"off\")\n",
    "    img = cv.imread(image)\n",
    "    img = color_change(img, mode='rgb')\n",
    "    for figure in clear_image.get_objects():\n",
    "        a = figure.get_approx()\n",
    "        if figure.get_smoothness() is False:\n",
    "            cv.drawContours(img, [a], -1, (0,255,0), 3)\n",
    "            plt.scatter([i[0] for i in a],  [i[1] for i in a], s=20, color='k')\n",
    "            text = 'P' + str(figure.get_amount_vertexes())\n",
    "            if figure.get_convex() == False:\n",
    "                convex = ''\n",
    "            else:\n",
    "                convex = 'C'\n",
    "            text = text + convex\n",
    "            org = (figure.get_centre()[1]+15, figure.get_centre()[0]-40)\n",
    "            org = (figure.get_centre()[1], figure.get_centre()[0])\n",
    "            font = cv.FONT_HERSHEY_SIMPLEX \n",
    "            img = cv.putText(img, text, org, cv.FONT_HERSHEY_PLAIN, 2, (251, 255, 0), 2, cv.LINE_AA)\n",
    "        else:\n",
    "            cv.drawContours(img, [a], -1, (255, 102, 0), 3)\n",
    "    img = cv.putText(img, str(clear_image.get_amount()), (10,40), cv.FONT_HERSHEY_PLAIN, 3, (251, 255, 0), 2, cv.LINE_AA)\n",
    "    plt.imshow(img)\n",
    "    plt.savefig('output_for_' + image[10:], bbox_inches='tight')"
   ]
  },
  {
   "cell_type": "code",
   "execution_count": null,
   "metadata": {},
   "outputs": [],
   "source": []
  }
 ],
 "metadata": {
  "colab": {
   "collapsed_sections": [
    "8TNgR_7GG4f6",
    "5XGPMgqJHFqx",
    "ko2dPo5DLZxU",
    "bIYOQ4WQMGzb",
    "Cjp0UF3VDY1X"
   ],
   "name": "Lab_1_Yanakov.ipynb",
   "provenance": []
  },
  "kernelspec": {
   "display_name": "Python 3",
   "language": "python",
   "name": "python3"
  },
  "language_info": {
   "codemirror_mode": {
    "name": "ipython",
    "version": 3
   },
   "file_extension": ".py",
   "mimetype": "text/x-python",
   "name": "python",
   "nbconvert_exporter": "python",
   "pygments_lexer": "ipython3",
   "version": "3.8.8"
  }
 },
 "nbformat": 4,
 "nbformat_minor": 1
}
